{
 "cells": [
  {
   "cell_type": "code",
   "execution_count": 35,
   "metadata": {},
   "outputs": [
    {
     "name": "stdout",
     "output_type": "stream",
     "text": [
      "<class '_io.TextIOWrapper'>\n",
      "1\n",
      "2\n"
     ]
    }
   ],
   "source": [
    "fd=open(\"Inventory.txt\",\"r\")\n",
    "\n",
    "for i in fd:\n",
    "    print(i[0])\n",
    "fd.close()"
   ]
  },
  {
   "cell_type": "markdown",
   "metadata": {},
   "source": [
    "#Inventory Data\n",
    "1.Product Id\n",
    "2.Product Name\n",
    "3.Price of Product \n",
    "4.Quantity"
   ]
  },
  {
   "cell_type": "code",
   "execution_count": 5,
   "metadata": {},
   "outputs": [],
   "source": [
    "fd=open(\"Inventory.txt\",'r')\n",
    "txt=fd.read()\n",
    "\n",
    "fd.close()\n"
   ]
  },
  {
   "cell_type": "code",
   "execution_count": 6,
   "metadata": {},
   "outputs": [
    {
     "data": {
      "text/plain": [
       "'1,SuagrFreeChocolate,5,100\\n2,MilkBar,15,50\\n3,Cake,25,20\\n4,Candy,2,1000'"
      ]
     },
     "execution_count": 6,
     "metadata": {},
     "output_type": "execute_result"
    }
   ],
   "source": [
    "txt"
   ]
  },
  {
   "cell_type": "code",
   "execution_count": 7,
   "metadata": {},
   "outputs": [
    {
     "data": {
      "text/plain": [
       "['1,SuagrFreeChocolate,5,100',\n",
       " '2,MilkBar,15,50',\n",
       " '3,Cake,25,20',\n",
       " '4,Candy,2,1000']"
      ]
     },
     "execution_count": 7,
     "metadata": {},
     "output_type": "execute_result"
    }
   ],
   "source": [
    "#Number of Products\n",
    "\n",
    "txt.split('\\n')"
   ]
  },
  {
   "cell_type": "code",
   "execution_count": 73,
   "metadata": {},
   "outputs": [
    {
     "data": {
      "text/plain": [
       "['1,Sugar_free,50,100', '2,Chocos,40,200', '3,fistyBite,20,400', '']"
      ]
     },
     "execution_count": 73,
     "metadata": {},
     "output_type": "execute_result"
    }
   ],
   "source": []
  },
  {
   "cell_type": "code",
   "execution_count": 91,
   "metadata": {},
   "outputs": [
    {
     "name": "stdout",
     "output_type": "stream",
     "text": [
      "Product Id 2\n",
      "Product Quantity 20000\n",
      "--------------------------------------------------\n",
      "Products ['1,Sugar_free,50,0', '2,Chocos,40,200', '3,fistyBite,20,400']\n",
      "Sorry we don't have that much quantity in out inventory\n",
      "We have 200 this much quantity would you like to purchase?\n",
      "Thank you visiting our service\n",
      "--------------------------------------------------\n",
      "Inventory Update : [['1', 'Sugar_free', '50', '0'], ['2', 'Chocos', '40', '200'], ['3', 'fistyBite', '20', '400']]\n"
     ]
    }
   ],
   "source": [
    "fd=open('Inventory.txt','r')\n",
    "products=fd.read().split('\\n')\n",
    "\n",
    "fd.close()\n",
    "\n",
    "ui_prod_id=input(\"Enter Product ID :\")\n",
    "ui_prod_qt=input(\"Enter product quantity:\")\n",
    "\n",
    "print(\"Product Id\",ui_prod_id)\n",
    "print(\"Product Quantity\",ui_prod_qt)\n",
    "print('-'*50)\n",
    "\n",
    "updated_Inventory=[]\n",
    "print(\"Products\",products)\n",
    "for product_item in products:\n",
    "    \n",
    "    product_details=product_item.split(',')\n",
    "    if((product_details[0] == ui_prod_id)  and (product_details[3]>= ui_prod_qt )):\n",
    "        print(\"Product Name     :  \",product_details[1])\n",
    "        print(\"Product Price    :  \",product_details[2])\n",
    "        print(\"Product Quantity :  \",ui_prod_qt)\n",
    "        print('-'*50)\n",
    "        print(\"Biiling Amount   :  \",int(product_details[2])*int(ui_prod_qt))\n",
    "        product_details[3]=str(int(product_details[3])-int(ui_prod_qt))\n",
    "        print(\"Remaining_QT\",product_details[3])\n",
    "    \n",
    "    elif(product_details[0] == ui_prod_id  and product_details[3] < ui_prod_qt):\n",
    "        print(\"Sorry we don't have that much quantity in out inventory\")\n",
    "        print(\"We have\",product_details[3],\"this much quantity would you like to purchase?\")\n",
    "        x=input(\"Press Y for yes or N for no\")\n",
    "        \n",
    "        if(x =='Y' or x =='y'):\n",
    "             print(\"Product Name     :  \",product_details[1])\n",
    "             print(\"Product Price    :  \",product_details[2])\n",
    "             print(\"Product Quantity :  \",ui_prod_qt)\n",
    "             print('-'*50)\n",
    "             print(\"Biiling Amount   :  \",int(product_details[2])*int(ui_prod_qt))\n",
    "             product_details[3]=\"0\"\n",
    "        else:\n",
    "            print(\"Thank you visiting our service\")\n",
    "            \n",
    "           \n",
    "    updated_Inventory.append(product_details)\n",
    "    \n",
    "print('-'*50)\n",
    "\n",
    "print(\"Inventory Update :\",updated_Inventory)\n",
    "\n",
    "\n",
    "\n",
    "#products=updated_Inventory\n",
    "lst=[]\n",
    "\n",
    "for i in updated_Inventory:\n",
    "    prod=i[0] + ',' + i[1] + ',' + i[2] +',' + i[3] +'\\n'\n",
    "    lst.append(prod)\n",
    "\n",
    "lst[-1]=lst[-1][:-1]\n",
    "    \n",
    "    \n",
    "fd=open(\"Inventory.txt\",'w')\n",
    "for i in lst:\n",
    "    fd.write(i)\n",
    "\n",
    "fd.close()\n",
    "        \n",
    "        "
   ]
  }
 ],
 "metadata": {
  "kernelspec": {
   "display_name": "base",
   "language": "python",
   "name": "python3"
  },
  "language_info": {
   "codemirror_mode": {
    "name": "ipython",
    "version": 3
   },
   "file_extension": ".py",
   "mimetype": "text/x-python",
   "name": "python",
   "nbconvert_exporter": "python",
   "pygments_lexer": "ipython3",
   "version": "3.10.9"
  }
 },
 "nbformat": 4,
 "nbformat_minor": 2
}
